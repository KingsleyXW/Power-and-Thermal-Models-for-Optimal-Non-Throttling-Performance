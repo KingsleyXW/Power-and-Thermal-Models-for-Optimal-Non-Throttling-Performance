{
 "cells": [
  {
   "cell_type": "code",
   "execution_count": 3,
   "metadata": {},
   "outputs": [
    {
     "name": "stdout",
     "output_type": "stream",
     "text": [
      "[14 51 20]\n",
      "[[14]\n",
      " [51]\n",
      " [20]]\n"
     ]
    }
   ],
   "source": [
    "import numpy as np\n",
    "import csv\n",
    "\n",
    "a = np.array([1,2,3])\n",
    "b = np.array([[1,2,3],[23,5,6],[2,3,4]])\n",
    "print(b.dot(a))\n",
    "a = a.reshape(3,-1)\n",
    "print(b.dot(a))"
   ]
  }
 ],
 "metadata": {
  "kernelspec": {
   "display_name": "Python 3.8.12 ('base')",
   "language": "python",
   "name": "python3"
  },
  "language_info": {
   "codemirror_mode": {
    "name": "ipython",
    "version": 3
   },
   "file_extension": ".py",
   "mimetype": "text/x-python",
   "name": "python",
   "nbconvert_exporter": "python",
   "pygments_lexer": "ipython3",
   "version": "3.8.12"
  },
  "orig_nbformat": 4,
  "vscode": {
   "interpreter": {
    "hash": "1144bcb8208989540b042e8770a824500faf12bc738cf9b31e84313832fea5df"
   }
  }
 },
 "nbformat": 4,
 "nbformat_minor": 2
}
